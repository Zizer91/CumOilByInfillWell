{
 "cells": [
  {
   "cell_type": "code",
   "execution_count": 1,
   "id": "081f58b0-e26b-4983-9a37-98c0fd5fdaf5",
   "metadata": {},
   "outputs": [
    {
     "name": "stdout",
     "output_type": "stream",
     "text": [
      "Извлечение данных из базы данных...\n",
      "Данные успешно извлечены и сохранены в файл /arps_d_teach/d_teach_from_db.txt.\n",
      "Обучение модели...\n",
      "Лучшие гиперпараметры:\n",
      "    n_estimators: 12\n",
      "    use_max_depth: False\n",
      "    min_samples_split: 2\n",
      "    min_samples_leaf: 1\n",
      "    max_features: sqrt\n",
      "\n",
      "Оценка модели:\n",
      "MAE: 0.0000\n",
      "MSE: 0.0000\n",
      "R2: 0.9323\n",
      "\n",
      "Выполнение прогнозирования...\n",
      "\n",
      "Результаты прогнозирования:\n"
     ]
    },
    {
     "data": {
      "text/html": [
       "<div>\n",
       "<style scoped>\n",
       "    .dataframe tbody tr th:only-of-type {\n",
       "        vertical-align: middle;\n",
       "    }\n",
       "\n",
       "    .dataframe tbody tr th {\n",
       "        vertical-align: top;\n",
       "    }\n",
       "\n",
       "    .dataframe thead th {\n",
       "        text-align: right;\n",
       "    }\n",
       "</style>\n",
       "<table border=\"1\" class=\"dataframe\">\n",
       "  <thead>\n",
       "    <tr style=\"text-align: right;\">\n",
       "      <th></th>\n",
       "      <th>Скважина</th>\n",
       "      <th>D</th>\n",
       "      <th>Накоп за 6 мес</th>\n",
       "      <th>Накоп за 12 мес</th>\n",
       "      <th>Все запасы</th>\n",
       "    </tr>\n",
       "  </thead>\n",
       "  <tbody>\n",
       "    <tr>\n",
       "      <th>0</th>\n",
       "      <td>NewWell-26P</td>\n",
       "      <td>0.000019</td>\n",
       "      <td>13477.027501</td>\n",
       "      <td>27355.243448</td>\n",
       "      <td>3.447773e+06</td>\n",
       "    </tr>\n",
       "    <tr>\n",
       "      <th>1</th>\n",
       "      <td>NewWell-27P</td>\n",
       "      <td>0.000022</td>\n",
       "      <td>7634.786034</td>\n",
       "      <td>15492.270414</td>\n",
       "      <td>1.851047e+06</td>\n",
       "    </tr>\n",
       "    <tr>\n",
       "      <th>2</th>\n",
       "      <td>NewWell-28P</td>\n",
       "      <td>0.000017</td>\n",
       "      <td>19284.047402</td>\n",
       "      <td>39148.226477</td>\n",
       "      <td>5.083895e+06</td>\n",
       "    </tr>\n",
       "    <tr>\n",
       "      <th>3</th>\n",
       "      <td>NewWell-29P</td>\n",
       "      <td>0.000022</td>\n",
       "      <td>8856.351800</td>\n",
       "      <td>17971.033680</td>\n",
       "      <td>2.147214e+06</td>\n",
       "    </tr>\n",
       "    <tr>\n",
       "      <th>4</th>\n",
       "      <td>NewWell-30P</td>\n",
       "      <td>0.000022</td>\n",
       "      <td>3880.245224</td>\n",
       "      <td>7873.626087</td>\n",
       "      <td>9.397844e+05</td>\n",
       "    </tr>\n",
       "    <tr>\n",
       "      <th>5</th>\n",
       "      <td>NewWell-31P</td>\n",
       "      <td>0.000017</td>\n",
       "      <td>14647.114195</td>\n",
       "      <td>29734.582692</td>\n",
       "      <td>3.854211e+06</td>\n",
       "    </tr>\n",
       "    <tr>\n",
       "      <th>6</th>\n",
       "      <td>NewWell-32P</td>\n",
       "      <td>0.000019</td>\n",
       "      <td>12309.260653</td>\n",
       "      <td>24985.452407</td>\n",
       "      <td>3.161137e+06</td>\n",
       "    </tr>\n",
       "    <tr>\n",
       "      <th>7</th>\n",
       "      <td>NewWell-33P</td>\n",
       "      <td>0.000017</td>\n",
       "      <td>20507.302138</td>\n",
       "      <td>41633.942031</td>\n",
       "      <td>5.469159e+06</td>\n",
       "    </tr>\n",
       "    <tr>\n",
       "      <th>8</th>\n",
       "      <td>NewWell-34P</td>\n",
       "      <td>0.000017</td>\n",
       "      <td>18997.672362</td>\n",
       "      <td>38569.320537</td>\n",
       "      <td>5.072652e+06</td>\n",
       "    </tr>\n",
       "    <tr>\n",
       "      <th>9</th>\n",
       "      <td>NewWell-35P</td>\n",
       "      <td>0.000023</td>\n",
       "      <td>8675.689682</td>\n",
       "      <td>17602.315810</td>\n",
       "      <td>2.060183e+06</td>\n",
       "    </tr>\n",
       "    <tr>\n",
       "      <th>10</th>\n",
       "      <td>NewWell-36P</td>\n",
       "      <td>0.000017</td>\n",
       "      <td>20398.304476</td>\n",
       "      <td>41410.235907</td>\n",
       "      <td>5.376994e+06</td>\n",
       "    </tr>\n",
       "    <tr>\n",
       "      <th>11</th>\n",
       "      <td>NewWell-37P</td>\n",
       "      <td>0.000025</td>\n",
       "      <td>4400.131090</td>\n",
       "      <td>8926.322816</td>\n",
       "      <td>1.021552e+06</td>\n",
       "    </tr>\n",
       "    <tr>\n",
       "      <th>12</th>\n",
       "      <td>NewWell-38P</td>\n",
       "      <td>0.000023</td>\n",
       "      <td>4688.105605</td>\n",
       "      <td>9511.810407</td>\n",
       "      <td>1.113266e+06</td>\n",
       "    </tr>\n",
       "    <tr>\n",
       "      <th>13</th>\n",
       "      <td>NewWell-39P</td>\n",
       "      <td>0.000022</td>\n",
       "      <td>7419.215605</td>\n",
       "      <td>15054.841602</td>\n",
       "      <td>1.798782e+06</td>\n",
       "    </tr>\n",
       "    <tr>\n",
       "      <th>14</th>\n",
       "      <td>NewWell-40P</td>\n",
       "      <td>0.000022</td>\n",
       "      <td>3251.520640</td>\n",
       "      <td>6597.884576</td>\n",
       "      <td>7.883282e+05</td>\n",
       "    </tr>\n",
       "    <tr>\n",
       "      <th>15</th>\n",
       "      <td>NewWell-41P</td>\n",
       "      <td>0.000022</td>\n",
       "      <td>4598.835823</td>\n",
       "      <td>9331.814649</td>\n",
       "      <td>1.114984e+06</td>\n",
       "    </tr>\n",
       "    <tr>\n",
       "      <th>16</th>\n",
       "      <td>NewWell-42P</td>\n",
       "      <td>0.000019</td>\n",
       "      <td>12578.831803</td>\n",
       "      <td>25532.683205</td>\n",
       "      <td>3.231637e+06</td>\n",
       "    </tr>\n",
       "    <tr>\n",
       "      <th>17</th>\n",
       "      <td>NewWell-43P</td>\n",
       "      <td>0.000019</td>\n",
       "      <td>12776.425031</td>\n",
       "      <td>25933.606017</td>\n",
       "      <td>3.278678e+06</td>\n",
       "    </tr>\n",
       "    <tr>\n",
       "      <th>18</th>\n",
       "      <td>NewWell-44P</td>\n",
       "      <td>0.000018</td>\n",
       "      <td>14663.835339</td>\n",
       "      <td>29765.918315</td>\n",
       "      <td>3.793236e+06</td>\n",
       "    </tr>\n",
       "    <tr>\n",
       "      <th>19</th>\n",
       "      <td>NewWell-45P</td>\n",
       "      <td>0.000018</td>\n",
       "      <td>12848.946602</td>\n",
       "      <td>26082.151476</td>\n",
       "      <td>3.329930e+06</td>\n",
       "    </tr>\n",
       "    <tr>\n",
       "      <th>20</th>\n",
       "      <td>NewWell-46P</td>\n",
       "      <td>0.000023</td>\n",
       "      <td>10346.826262</td>\n",
       "      <td>20994.303733</td>\n",
       "      <td>2.484754e+06</td>\n",
       "    </tr>\n",
       "    <tr>\n",
       "      <th>21</th>\n",
       "      <td>NewWell-47P</td>\n",
       "      <td>0.000017</td>\n",
       "      <td>20094.037560</td>\n",
       "      <td>40795.175365</td>\n",
       "      <td>5.365397e+06</td>\n",
       "    </tr>\n",
       "    <tr>\n",
       "      <th>22</th>\n",
       "      <td>NewWell-48P</td>\n",
       "      <td>0.000023</td>\n",
       "      <td>3340.948822</td>\n",
       "      <td>6778.531554</td>\n",
       "      <td>7.933622e+05</td>\n",
       "    </tr>\n",
       "    <tr>\n",
       "      <th>23</th>\n",
       "      <td>NewWell-49P</td>\n",
       "      <td>0.000023</td>\n",
       "      <td>5263.305957</td>\n",
       "      <td>10679.709124</td>\n",
       "      <td>1.267229e+06</td>\n",
       "    </tr>\n",
       "    <tr>\n",
       "      <th>24</th>\n",
       "      <td>NewWell-50P</td>\n",
       "      <td>0.000021</td>\n",
       "      <td>9935.044444</td>\n",
       "      <td>20161.634196</td>\n",
       "      <td>2.446008e+06</td>\n",
       "    </tr>\n",
       "  </tbody>\n",
       "</table>\n",
       "</div>"
      ],
      "text/plain": [
       "       Скважина         D  Накоп за 6 мес  Накоп за 12 мес    Все запасы\n",
       "0   NewWell-26P  0.000019    13477.027501     27355.243448  3.447773e+06\n",
       "1   NewWell-27P  0.000022     7634.786034     15492.270414  1.851047e+06\n",
       "2   NewWell-28P  0.000017    19284.047402     39148.226477  5.083895e+06\n",
       "3   NewWell-29P  0.000022     8856.351800     17971.033680  2.147214e+06\n",
       "4   NewWell-30P  0.000022     3880.245224      7873.626087  9.397844e+05\n",
       "5   NewWell-31P  0.000017    14647.114195     29734.582692  3.854211e+06\n",
       "6   NewWell-32P  0.000019    12309.260653     24985.452407  3.161137e+06\n",
       "7   NewWell-33P  0.000017    20507.302138     41633.942031  5.469159e+06\n",
       "8   NewWell-34P  0.000017    18997.672362     38569.320537  5.072652e+06\n",
       "9   NewWell-35P  0.000023     8675.689682     17602.315810  2.060183e+06\n",
       "10  NewWell-36P  0.000017    20398.304476     41410.235907  5.376994e+06\n",
       "11  NewWell-37P  0.000025     4400.131090      8926.322816  1.021552e+06\n",
       "12  NewWell-38P  0.000023     4688.105605      9511.810407  1.113266e+06\n",
       "13  NewWell-39P  0.000022     7419.215605     15054.841602  1.798782e+06\n",
       "14  NewWell-40P  0.000022     3251.520640      6597.884576  7.883282e+05\n",
       "15  NewWell-41P  0.000022     4598.835823      9331.814649  1.114984e+06\n",
       "16  NewWell-42P  0.000019    12578.831803     25532.683205  3.231637e+06\n",
       "17  NewWell-43P  0.000019    12776.425031     25933.606017  3.278678e+06\n",
       "18  NewWell-44P  0.000018    14663.835339     29765.918315  3.793236e+06\n",
       "19  NewWell-45P  0.000018    12848.946602     26082.151476  3.329930e+06\n",
       "20  NewWell-46P  0.000023    10346.826262     20994.303733  2.484754e+06\n",
       "21  NewWell-47P  0.000017    20094.037560     40795.175365  5.365397e+06\n",
       "22  NewWell-48P  0.000023     3340.948822      6778.531554  7.933622e+05\n",
       "23  NewWell-49P  0.000023     5263.305957     10679.709124  1.267229e+06\n",
       "24  NewWell-50P  0.000021     9935.044444     20161.634196  2.446008e+06"
      ]
     },
     "metadata": {},
     "output_type": "display_data"
    },
    {
     "data": {
      "application/vnd.plotly.v1+json": {
       "config": {
        "plotlyServerURL": "https://plot.ly"
       },
       "data": [
        {
         "hovertemplate": "Скважина %{x}<br>D: %{y:.8f}<extra></extra>",
         "marker": {
          "color": "#2563EB"
         },
         "type": "bar",
         "x": [
          "NewWell-26P",
          "NewWell-27P",
          "NewWell-28P",
          "NewWell-29P",
          "NewWell-30P",
          "NewWell-31P",
          "NewWell-32P",
          "NewWell-33P",
          "NewWell-34P",
          "NewWell-35P",
          "NewWell-36P",
          "NewWell-37P",
          "NewWell-38P",
          "NewWell-39P",
          "NewWell-40P",
          "NewWell-41P",
          "NewWell-42P",
          "NewWell-43P",
          "NewWell-44P",
          "NewWell-45P",
          "NewWell-46P",
          "NewWell-47P",
          "NewWell-48P",
          "NewWell-49P",
          "NewWell-50P"
         ],
         "y": {
          "bdata": "CE3C7PTe8z6w4vtWdDv3Pl2nno8XG/I+sOL7VnQ79z71gr3jzkz3PgM9BkizNvI+COYUZxqk8z6pbeWP+XLxPmTNIwOfYfE+HVQS0FSb+D5LRAmu4RzyPrCf5BucJvo+HVQS0FSb+D6w4vtWdDv3PrDi+1Z0O/c+sOL7VnQ79z4H6+eZFp7zPkyLqSZxr/M+LfTw/sY18z5PO7TqxhnzPp1C8sHI2/c+ZM0jA59h8T4dVBLQVJv4Pu8tPMg2sPc+YaQ8tUs+9j4=",
          "dtype": "f8"
         }
        }
       ],
       "layout": {
        "font": {
         "color": "#374151",
         "family": "Poppins, sans-serif",
         "size": 14
        },
        "margin": {
         "b": 100,
         "l": 60,
         "r": 40,
         "t": 60
        },
        "paper_bgcolor": "white",
        "plot_bgcolor": "white",
        "template": {
         "data": {
          "bar": [
           {
            "error_x": {
             "color": "#2a3f5f"
            },
            "error_y": {
             "color": "#2a3f5f"
            },
            "marker": {
             "line": {
              "color": "#E5ECF6",
              "width": 0.5
             },
             "pattern": {
              "fillmode": "overlay",
              "size": 10,
              "solidity": 0.2
             }
            },
            "type": "bar"
           }
          ],
          "barpolar": [
           {
            "marker": {
             "line": {
              "color": "#E5ECF6",
              "width": 0.5
             },
             "pattern": {
              "fillmode": "overlay",
              "size": 10,
              "solidity": 0.2
             }
            },
            "type": "barpolar"
           }
          ],
          "carpet": [
           {
            "aaxis": {
             "endlinecolor": "#2a3f5f",
             "gridcolor": "white",
             "linecolor": "white",
             "minorgridcolor": "white",
             "startlinecolor": "#2a3f5f"
            },
            "baxis": {
             "endlinecolor": "#2a3f5f",
             "gridcolor": "white",
             "linecolor": "white",
             "minorgridcolor": "white",
             "startlinecolor": "#2a3f5f"
            },
            "type": "carpet"
           }
          ],
          "choropleth": [
           {
            "colorbar": {
             "outlinewidth": 0,
             "ticks": ""
            },
            "type": "choropleth"
           }
          ],
          "contour": [
           {
            "colorbar": {
             "outlinewidth": 0,
             "ticks": ""
            },
            "colorscale": [
             [
              0,
              "#0d0887"
             ],
             [
              0.1111111111111111,
              "#46039f"
             ],
             [
              0.2222222222222222,
              "#7201a8"
             ],
             [
              0.3333333333333333,
              "#9c179e"
             ],
             [
              0.4444444444444444,
              "#bd3786"
             ],
             [
              0.5555555555555556,
              "#d8576b"
             ],
             [
              0.6666666666666666,
              "#ed7953"
             ],
             [
              0.7777777777777778,
              "#fb9f3a"
             ],
             [
              0.8888888888888888,
              "#fdca26"
             ],
             [
              1,
              "#f0f921"
             ]
            ],
            "type": "contour"
           }
          ],
          "contourcarpet": [
           {
            "colorbar": {
             "outlinewidth": 0,
             "ticks": ""
            },
            "type": "contourcarpet"
           }
          ],
          "heatmap": [
           {
            "colorbar": {
             "outlinewidth": 0,
             "ticks": ""
            },
            "colorscale": [
             [
              0,
              "#0d0887"
             ],
             [
              0.1111111111111111,
              "#46039f"
             ],
             [
              0.2222222222222222,
              "#7201a8"
             ],
             [
              0.3333333333333333,
              "#9c179e"
             ],
             [
              0.4444444444444444,
              "#bd3786"
             ],
             [
              0.5555555555555556,
              "#d8576b"
             ],
             [
              0.6666666666666666,
              "#ed7953"
             ],
             [
              0.7777777777777778,
              "#fb9f3a"
             ],
             [
              0.8888888888888888,
              "#fdca26"
             ],
             [
              1,
              "#f0f921"
             ]
            ],
            "type": "heatmap"
           }
          ],
          "histogram": [
           {
            "marker": {
             "pattern": {
              "fillmode": "overlay",
              "size": 10,
              "solidity": 0.2
             }
            },
            "type": "histogram"
           }
          ],
          "histogram2d": [
           {
            "colorbar": {
             "outlinewidth": 0,
             "ticks": ""
            },
            "colorscale": [
             [
              0,
              "#0d0887"
             ],
             [
              0.1111111111111111,
              "#46039f"
             ],
             [
              0.2222222222222222,
              "#7201a8"
             ],
             [
              0.3333333333333333,
              "#9c179e"
             ],
             [
              0.4444444444444444,
              "#bd3786"
             ],
             [
              0.5555555555555556,
              "#d8576b"
             ],
             [
              0.6666666666666666,
              "#ed7953"
             ],
             [
              0.7777777777777778,
              "#fb9f3a"
             ],
             [
              0.8888888888888888,
              "#fdca26"
             ],
             [
              1,
              "#f0f921"
             ]
            ],
            "type": "histogram2d"
           }
          ],
          "histogram2dcontour": [
           {
            "colorbar": {
             "outlinewidth": 0,
             "ticks": ""
            },
            "colorscale": [
             [
              0,
              "#0d0887"
             ],
             [
              0.1111111111111111,
              "#46039f"
             ],
             [
              0.2222222222222222,
              "#7201a8"
             ],
             [
              0.3333333333333333,
              "#9c179e"
             ],
             [
              0.4444444444444444,
              "#bd3786"
             ],
             [
              0.5555555555555556,
              "#d8576b"
             ],
             [
              0.6666666666666666,
              "#ed7953"
             ],
             [
              0.7777777777777778,
              "#fb9f3a"
             ],
             [
              0.8888888888888888,
              "#fdca26"
             ],
             [
              1,
              "#f0f921"
             ]
            ],
            "type": "histogram2dcontour"
           }
          ],
          "mesh3d": [
           {
            "colorbar": {
             "outlinewidth": 0,
             "ticks": ""
            },
            "type": "mesh3d"
           }
          ],
          "parcoords": [
           {
            "line": {
             "colorbar": {
              "outlinewidth": 0,
              "ticks": ""
             }
            },
            "type": "parcoords"
           }
          ],
          "pie": [
           {
            "automargin": true,
            "type": "pie"
           }
          ],
          "scatter": [
           {
            "fillpattern": {
             "fillmode": "overlay",
             "size": 10,
             "solidity": 0.2
            },
            "type": "scatter"
           }
          ],
          "scatter3d": [
           {
            "line": {
             "colorbar": {
              "outlinewidth": 0,
              "ticks": ""
             }
            },
            "marker": {
             "colorbar": {
              "outlinewidth": 0,
              "ticks": ""
             }
            },
            "type": "scatter3d"
           }
          ],
          "scattercarpet": [
           {
            "marker": {
             "colorbar": {
              "outlinewidth": 0,
              "ticks": ""
             }
            },
            "type": "scattercarpet"
           }
          ],
          "scattergeo": [
           {
            "marker": {
             "colorbar": {
              "outlinewidth": 0,
              "ticks": ""
             }
            },
            "type": "scattergeo"
           }
          ],
          "scattergl": [
           {
            "marker": {
             "colorbar": {
              "outlinewidth": 0,
              "ticks": ""
             }
            },
            "type": "scattergl"
           }
          ],
          "scattermap": [
           {
            "marker": {
             "colorbar": {
              "outlinewidth": 0,
              "ticks": ""
             }
            },
            "type": "scattermap"
           }
          ],
          "scattermapbox": [
           {
            "marker": {
             "colorbar": {
              "outlinewidth": 0,
              "ticks": ""
             }
            },
            "type": "scattermapbox"
           }
          ],
          "scatterpolar": [
           {
            "marker": {
             "colorbar": {
              "outlinewidth": 0,
              "ticks": ""
             }
            },
            "type": "scatterpolar"
           }
          ],
          "scatterpolargl": [
           {
            "marker": {
             "colorbar": {
              "outlinewidth": 0,
              "ticks": ""
             }
            },
            "type": "scatterpolargl"
           }
          ],
          "scatterternary": [
           {
            "marker": {
             "colorbar": {
              "outlinewidth": 0,
              "ticks": ""
             }
            },
            "type": "scatterternary"
           }
          ],
          "surface": [
           {
            "colorbar": {
             "outlinewidth": 0,
             "ticks": ""
            },
            "colorscale": [
             [
              0,
              "#0d0887"
             ],
             [
              0.1111111111111111,
              "#46039f"
             ],
             [
              0.2222222222222222,
              "#7201a8"
             ],
             [
              0.3333333333333333,
              "#9c179e"
             ],
             [
              0.4444444444444444,
              "#bd3786"
             ],
             [
              0.5555555555555556,
              "#d8576b"
             ],
             [
              0.6666666666666666,
              "#ed7953"
             ],
             [
              0.7777777777777778,
              "#fb9f3a"
             ],
             [
              0.8888888888888888,
              "#fdca26"
             ],
             [
              1,
              "#f0f921"
             ]
            ],
            "type": "surface"
           }
          ],
          "table": [
           {
            "cells": {
             "fill": {
              "color": "#EBF0F8"
             },
             "line": {
              "color": "white"
             }
            },
            "header": {
             "fill": {
              "color": "#C8D4E3"
             },
             "line": {
              "color": "white"
             }
            },
            "type": "table"
           }
          ]
         },
         "layout": {
          "annotationdefaults": {
           "arrowcolor": "#2a3f5f",
           "arrowhead": 0,
           "arrowwidth": 1
          },
          "autotypenumbers": "strict",
          "coloraxis": {
           "colorbar": {
            "outlinewidth": 0,
            "ticks": ""
           }
          },
          "colorscale": {
           "diverging": [
            [
             0,
             "#8e0152"
            ],
            [
             0.1,
             "#c51b7d"
            ],
            [
             0.2,
             "#de77ae"
            ],
            [
             0.3,
             "#f1b6da"
            ],
            [
             0.4,
             "#fde0ef"
            ],
            [
             0.5,
             "#f7f7f7"
            ],
            [
             0.6,
             "#e6f5d0"
            ],
            [
             0.7,
             "#b8e186"
            ],
            [
             0.8,
             "#7fbc41"
            ],
            [
             0.9,
             "#4d9221"
            ],
            [
             1,
             "#276419"
            ]
           ],
           "sequential": [
            [
             0,
             "#0d0887"
            ],
            [
             0.1111111111111111,
             "#46039f"
            ],
            [
             0.2222222222222222,
             "#7201a8"
            ],
            [
             0.3333333333333333,
             "#9c179e"
            ],
            [
             0.4444444444444444,
             "#bd3786"
            ],
            [
             0.5555555555555556,
             "#d8576b"
            ],
            [
             0.6666666666666666,
             "#ed7953"
            ],
            [
             0.7777777777777778,
             "#fb9f3a"
            ],
            [
             0.8888888888888888,
             "#fdca26"
            ],
            [
             1,
             "#f0f921"
            ]
           ],
           "sequentialminus": [
            [
             0,
             "#0d0887"
            ],
            [
             0.1111111111111111,
             "#46039f"
            ],
            [
             0.2222222222222222,
             "#7201a8"
            ],
            [
             0.3333333333333333,
             "#9c179e"
            ],
            [
             0.4444444444444444,
             "#bd3786"
            ],
            [
             0.5555555555555556,
             "#d8576b"
            ],
            [
             0.6666666666666666,
             "#ed7953"
            ],
            [
             0.7777777777777778,
             "#fb9f3a"
            ],
            [
             0.8888888888888888,
             "#fdca26"
            ],
            [
             1,
             "#f0f921"
            ]
           ]
          },
          "colorway": [
           "#636efa",
           "#EF553B",
           "#00cc96",
           "#ab63fa",
           "#FFA15A",
           "#19d3f3",
           "#FF6692",
           "#B6E880",
           "#FF97FF",
           "#FECB52"
          ],
          "font": {
           "color": "#2a3f5f"
          },
          "geo": {
           "bgcolor": "white",
           "lakecolor": "white",
           "landcolor": "#E5ECF6",
           "showlakes": true,
           "showland": true,
           "subunitcolor": "white"
          },
          "hoverlabel": {
           "align": "left"
          },
          "hovermode": "closest",
          "mapbox": {
           "style": "light"
          },
          "paper_bgcolor": "white",
          "plot_bgcolor": "#E5ECF6",
          "polar": {
           "angularaxis": {
            "gridcolor": "white",
            "linecolor": "white",
            "ticks": ""
           },
           "bgcolor": "#E5ECF6",
           "radialaxis": {
            "gridcolor": "white",
            "linecolor": "white",
            "ticks": ""
           }
          },
          "scene": {
           "xaxis": {
            "backgroundcolor": "#E5ECF6",
            "gridcolor": "white",
            "gridwidth": 2,
            "linecolor": "white",
            "showbackground": true,
            "ticks": "",
            "zerolinecolor": "white"
           },
           "yaxis": {
            "backgroundcolor": "#E5ECF6",
            "gridcolor": "white",
            "gridwidth": 2,
            "linecolor": "white",
            "showbackground": true,
            "ticks": "",
            "zerolinecolor": "white"
           },
           "zaxis": {
            "backgroundcolor": "#E5ECF6",
            "gridcolor": "white",
            "gridwidth": 2,
            "linecolor": "white",
            "showbackground": true,
            "ticks": "",
            "zerolinecolor": "white"
           }
          },
          "shapedefaults": {
           "line": {
            "color": "#2a3f5f"
           }
          },
          "ternary": {
           "aaxis": {
            "gridcolor": "white",
            "linecolor": "white",
            "ticks": ""
           },
           "baxis": {
            "gridcolor": "white",
            "linecolor": "white",
            "ticks": ""
           },
           "bgcolor": "#E5ECF6",
           "caxis": {
            "gridcolor": "white",
            "linecolor": "white",
            "ticks": ""
           }
          },
          "title": {
           "x": 0.05
          },
          "xaxis": {
           "automargin": true,
           "gridcolor": "white",
           "linecolor": "white",
           "ticks": "",
           "title": {
            "standoff": 15
           },
           "zerolinecolor": "white",
           "zerolinewidth": 2
          },
          "yaxis": {
           "automargin": true,
           "gridcolor": "white",
           "linecolor": "white",
           "ticks": "",
           "title": {
            "standoff": 15
           },
           "zerolinecolor": "white",
           "zerolinewidth": 2
          }
         }
        },
        "title": {
         "text": "D по скважинам"
        },
        "xaxis": {
         "tickangle": -45,
         "tickfont": {
          "color": "#6B7280",
          "size": 13
         },
         "title": {
          "text": "Скважина"
         }
        },
        "yaxis": {
         "gridcolor": "#E5E7EB",
         "title": {
          "text": "Значение"
         },
         "zeroline": true,
         "zerolinecolor": "#D1D5DB",
         "zerolinewidth": 2
        }
       }
      },
      "image/png": "[encoded data removed]"
     },
     "metadata": {},
     "output_type": "display_data"
    },
    {
     "data": {
      "application/vnd.plotly.v1+json": {
       "config": {
        "plotlyServerURL": "https://plot.ly"
       },
       "data": [
        {
         "hovertemplate": "Скважина %{x}<br>Накоп за 6 мес: %{y:.0f}<extra></extra>",
         "marker": {
          "color": "#10B981"
         },
         "type": "bar",
         "x": [
          "NewWell-26P",
          "NewWell-27P",
          "NewWell-28P",
          "NewWell-29P",
          "NewWell-30P",
          "NewWell-31P",
          "NewWell-32P",
          "NewWell-33P",
          "NewWell-34P",
          "NewWell-35P",
          "NewWell-36P",
          "NewWell-37P",
          "NewWell-38P",
          "NewWell-39P",
          "NewWell-40P",
          "NewWell-41P",
          "NewWell-42P",
          "NewWell-43P",
          "NewWell-44P",
          "NewWell-45P",
          "NewWell-46P",
          "NewWell-47P",
          "NewWell-48P",
          "NewWell-49P",
          "NewWell-50P"
         ],
         "y": {
          "bdata": "lm0ohYNSykDMTog5ydK9QKGEoAgD1dJAitHEBy1MwUBbdwCOfVCuQAws9J2Om8xAgLAVXaEKyEBC4jpW0wbUQKjH+wdrjdJAiuaBR9jxwEClNIh8k+vTQO94HI8hMLFA75zoCBtQskAYbeIxN/u8QONtYZEKZ6lAjnl9+NX2sUDIxYN4apHIQMooamc29MhAje5k7OqjzEBRQkAqeRjJQN2f9sJpNcRAHXhiZ4Kf00ACNfbL5RmqQChqMVNOj7RATvtYsIVnw0A=",
          "dtype": "f8"
         }
        }
       ],
       "layout": {
        "font": {
         "color": "#374151",
         "family": "Poppins, sans-serif",
         "size": 14
        },
        "margin": {
         "b": 100,
         "l": 60,
         "r": 40,
         "t": 60
        },
        "paper_bgcolor": "white",
        "plot_bgcolor": "white",
        "template": {
         "data": {
          "bar": [
           {
            "error_x": {
             "color": "#2a3f5f"
            },
            "error_y": {
             "color": "#2a3f5f"
            },
            "marker": {
             "line": {
              "color": "#E5ECF6",
              "width": 0.5
             },
             "pattern": {
              "fillmode": "overlay",
              "size": 10,
              "solidity": 0.2
             }
            },
            "type": "bar"
           }
          ],
          "barpolar": [
           {
            "marker": {
             "line": {
              "color": "#E5ECF6",
              "width": 0.5
             },
             "pattern": {
              "fillmode": "overlay",
              "size": 10,
              "solidity": 0.2
             }
            },
            "type": "barpolar"
           }
          ],
          "carpet": [
           {
            "aaxis": {
             "endlinecolor": "#2a3f5f",
             "gridcolor": "white",
             "linecolor": "white",
             "minorgridcolor": "white",
             "startlinecolor": "#2a3f5f"
            },
            "baxis": {
             "endlinecolor": "#2a3f5f",
             "gridcolor": "white",
             "linecolor": "white",
             "minorgridcolor": "white",
             "startlinecolor": "#2a3f5f"
            },
            "type": "carpet"
           }
          ],
          "choropleth": [
           {
            "colorbar": {
             "outlinewidth": 0,
             "ticks": ""
            },
            "type": "choropleth"
           }
          ],
          "contour": [
           {
            "colorbar": {
             "outlinewidth": 0,
             "ticks": ""
            },
            "colorscale": [
             [
              0,
              "#0d0887"
             ],
             [
              0.1111111111111111,
              "#46039f"
             ],
             [
              0.2222222222222222,
              "#7201a8"
             ],
             [
              0.3333333333333333,
              "#9c179e"
             ],
             [
              0.4444444444444444,
              "#bd3786"
             ],
             [
              0.5555555555555556,
              "#d8576b"
             ],
             [
              0.6666666666666666,
              "#ed7953"
             ],
             [
              0.7777777777777778,
              "#fb9f3a"
             ],
             [
              0.8888888888888888,
              "#fdca26"
             ],
             [
              1,
              "#f0f921"
             ]
            ],
            "type": "contour"
           }
          ],
          "contourcarpet": [
           {
            "colorbar": {
             "outlinewidth": 0,
             "ticks": ""
            },
            "type": "contourcarpet"
           }
          ],
          "heatmap": [
           {
            "colorbar": {
             "outlinewidth": 0,
             "ticks": ""
            },
            "colorscale": [
             [
              0,
              "#0d0887"
             ],
             [
              0.1111111111111111,
              "#46039f"
             ],
             [
              0.2222222222222222,
              "#7201a8"
             ],
             [
              0.3333333333333333,
              "#9c179e"
             ],
             [
              0.4444444444444444,
              "#bd3786"
             ],
             [
              0.5555555555555556,
              "#d8576b"
             ],
             [
              0.6666666666666666,
              "#ed7953"
             ],
             [
              0.7777777777777778,
              "#fb9f3a"
             ],
             [
              0.8888888888888888,
              "#fdca26"
             ],
             [
              1,
              "#f0f921"
             ]
            ],
            "type": "heatmap"
           }
          ],
          "histogram": [
           {
            "marker": {
             "pattern": {
              "fillmode": "overlay",
              "size": 10,
              "solidity": 0.2
             }
            },
            "type": "histogram"
           }
          ],
          "histogram2d": [
           {
            "colorbar": {
             "outlinewidth": 0,
             "ticks": ""
            },
            "colorscale": [
             [
              0,
              "#0d0887"
             ],
             [
              0.1111111111111111,
              "#46039f"
             ],
             [
              0.2222222222222222,
              "#7201a8"
             ],
             [
              0.3333333333333333,
              "#9c179e"
             ],
             [
              0.4444444444444444,
              "#bd3786"
             ],
             [
              0.5555555555555556,
              "#d8576b"
             ],
             [
              0.6666666666666666,
              "#ed7953"
             ],
             [
              0.7777777777777778,
              "#fb9f3a"
             ],
             [
              0.8888888888888888,
              "#fdca26"
             ],
             [
              1,
              "#f0f921"
             ]
            ],
            "type": "histogram2d"
           }
          ],
          "histogram2dcontour": [
           {
            "colorbar": {
             "outlinewidth": 0,
             "ticks": ""
            },
            "colorscale": [
             [
              0,
              "#0d0887"
             ],
             [
              0.1111111111111111,
              "#46039f"
             ],
             [
              0.2222222222222222,
              "#7201a8"
             ],
             [
              0.3333333333333333,
              "#9c179e"
             ],
             [
              0.4444444444444444,
              "#bd3786"
             ],
             [
              0.5555555555555556,
              "#d8576b"
             ],
             [
              0.6666666666666666,
              "#ed7953"
             ],
             [
              0.7777777777777778,
              "#fb9f3a"
             ],
             [
              0.8888888888888888,
              "#fdca26"
             ],
             [
              1,
              "#f0f921"
             ]
            ],
            "type": "histogram2dcontour"
           }
          ],
          "mesh3d": [
           {
            "colorbar": {
             "outlinewidth": 0,
             "ticks": ""
            },
            "type": "mesh3d"
           }
          ],
          "parcoords": [
           {
            "line": {
             "colorbar": {
              "outlinewidth": 0,
              "ticks": ""
             }
            },
            "type": "parcoords"
           }
          ],
          "pie": [
           {
            "automargin": true,
            "type": "pie"
           }
          ],
          "scatter": [
           {
            "fillpattern": {
             "fillmode": "overlay",
             "size": 10,
             "solidity": 0.2
            },
            "type": "scatter"
           }
          ],
          "scatter3d": [
           {
            "line": {
             "colorbar": {
              "outlinewidth": 0,
              "ticks": ""
             }
            },
            "marker": {
             "colorbar": {
              "outlinewidth": 0,
              "ticks": ""
             }
            },
            "type": "scatter3d"
           }
          ],
          "scattercarpet": [
           {
            "marker": {
             "colorbar": {
              "outlinewidth": 0,
              "ticks": ""
             }
            },
            "type": "scattercarpet"
           }
          ],
          "scattergeo": [
           {
            "marker": {
             "colorbar": {
              "outlinewidth": 0,
              "ticks": ""
             }
            },
            "type": "scattergeo"
           }
          ],
          "scattergl": [
           {
            "marker": {
             "colorbar": {
              "outlinewidth": 0,
              "ticks": ""
             }
            },
            "type": "scattergl"
           }
          ],
          "scattermap": [
           {
            "marker": {
             "colorbar": {
              "outlinewidth": 0,
              "ticks": ""
             }
            },
            "type": "scattermap"
           }
          ],
          "scattermapbox": [
           {
            "marker": {
             "colorbar": {
              "outlinewidth": 0,
              "ticks": ""
             }
            },
            "type": "scattermapbox"
           }
          ],
          "scatterpolar": [
           {
            "marker": {
             "colorbar": {
              "outlinewidth": 0,
              "ticks": ""
             }
            },
            "type": "scatterpolar"
           }
          ],
          "scatterpolargl": [
           {
            "marker": {
             "colorbar": {
              "outlinewidth": 0,
              "ticks": ""
             }
            },
            "type": "scatterpolargl"
           }
          ],
          "scatterternary": [
           {
            "marker": {
             "colorbar": {
              "outlinewidth": 0,
              "ticks": ""
             }
            },
            "type": "scatterternary"
           }
          ],
          "surface": [
           {
            "colorbar": {
             "outlinewidth": 0,
             "ticks": ""
            },
            "colorscale": [
             [
              0,
              "#0d0887"
             ],
             [
              0.1111111111111111,
              "#46039f"
             ],
             [
              0.2222222222222222,
              "#7201a8"
             ],
             [
              0.3333333333333333,
              "#9c179e"
             ],
             [
              0.4444444444444444,
              "#bd3786"
             ],
             [
              0.5555555555555556,
              "#d8576b"
             ],
             [
              0.6666666666666666,
              "#ed7953"
             ],
             [
              0.7777777777777778,
              "#fb9f3a"
             ],
             [
              0.8888888888888888,
              "#fdca26"
             ],
             [
              1,
              "#f0f921"
             ]
            ],
            "type": "surface"
           }
          ],
          "table": [
           {
            "cells": {
             "fill": {
              "color": "#EBF0F8"
             },
             "line": {
              "color": "white"
             }
            },
            "header": {
             "fill": {
              "color": "#C8D4E3"
             },
             "line": {
              "color": "white"
             }
            },
            "type": "table"
           }
          ]
         },
         "layout": {
          "annotationdefaults": {
           "arrowcolor": "#2a3f5f",
           "arrowhead": 0,
           "arrowwidth": 1
          },
          "autotypenumbers": "strict",
          "coloraxis": {
           "colorbar": {
            "outlinewidth": 0,
            "ticks": ""
           }
          },
          "colorscale": {
           "diverging": [
            [
             0,
             "#8e0152"
            ],
            [
             0.1,
             "#c51b7d"
            ],
            [
             0.2,
             "#de77ae"
            ],
            [
             0.3,
             "#f1b6da"
            ],
            [
             0.4,
             "#fde0ef"
            ],
            [
             0.5,
             "#f7f7f7"
            ],
            [
             0.6,
             "#e6f5d0"
            ],
            [
             0.7,
             "#b8e186"
            ],
            [
             0.8,
             "#7fbc41"
            ],
            [
             0.9,
             "#4d9221"
            ],
            [
             1,
             "#276419"
            ]
           ],
           "sequential": [
            [
             0,
             "#0d0887"
            ],
            [
             0.1111111111111111,
             "#46039f"
            ],
            [
             0.2222222222222222,
             "#7201a8"
            ],
            [
             0.3333333333333333,
             "#9c179e"
            ],
            [
             0.4444444444444444,
             "#bd3786"
            ],
            [
             0.5555555555555556,
             "#d8576b"
            ],
            [
             0.6666666666666666,
             "#ed7953"
            ],
            [
             0.7777777777777778,
             "#fb9f3a"
            ],
            [
             0.8888888888888888,
             "#fdca26"
            ],
            [
             1,
             "#f0f921"
            ]
           ],
           "sequentialminus": [
            [
             0,
             "#0d0887"
            ],
            [
             0.1111111111111111,
             "#46039f"
            ],
            [
             0.2222222222222222,
             "#7201a8"
            ],
            [
             0.3333333333333333,
             "#9c179e"
            ],
            [
             0.4444444444444444,
             "#bd3786"
            ],
            [
             0.5555555555555556,
             "#d8576b"
            ],
            [
             0.6666666666666666,
             "#ed7953"
            ],
            [
             0.7777777777777778,
             "#fb9f3a"
            ],
            [
             0.8888888888888888,
             "#fdca26"
            ],
            [
             1,
             "#f0f921"
            ]
           ]
          },
          "colorway": [
           "#636efa",
           "#EF553B",
           "#00cc96",
           "#ab63fa",
           "#FFA15A",
           "#19d3f3",
           "#FF6692",
           "#B6E880",
           "#FF97FF",
           "#FECB52"
          ],
          "font": {
           "color": "#2a3f5f"
          },
          "geo": {
           "bgcolor": "white",
           "lakecolor": "white",
           "landcolor": "#E5ECF6",
           "showlakes": true,
           "showland": true,
           "subunitcolor": "white"
          },
          "hoverlabel": {
           "align": "left"
          },
          "hovermode": "closest",
          "mapbox": {
           "style": "light"
          },
          "paper_bgcolor": "white",
          "plot_bgcolor": "#E5ECF6",
          "polar": {
           "angularaxis": {
            "gridcolor": "white",
            "linecolor": "white",
            "ticks": ""
           },
           "bgcolor": "#E5ECF6",
           "radialaxis": {
            "gridcolor": "white",
            "linecolor": "white",
            "ticks": ""
           }
          },
          "scene": {
           "xaxis": {
            "backgroundcolor": "#E5ECF6",
            "gridcolor": "white",
            "gridwidth": 2,
            "linecolor": "white",
            "showbackground": true,
            "ticks": "",
            "zerolinecolor": "white"
           },
           "yaxis": {
            "backgroundcolor": "#E5ECF6",
            "gridcolor": "white",
            "gridwidth": 2,
            "linecolor": "white",
            "showbackground": true,
            "ticks": "",
            "zerolinecolor": "white"
           },
           "zaxis": {
            "backgroundcolor": "#E5ECF6",
            "gridcolor": "white",
            "gridwidth": 2,
            "linecolor": "white",
            "showbackground": true,
            "ticks": "",
            "zerolinecolor": "white"
           }
          },
          "shapedefaults": {
           "line": {
            "color": "#2a3f5f"
           }
          },
          "ternary": {
           "aaxis": {
            "gridcolor": "white",
            "linecolor": "white",
            "ticks": ""
           },
           "baxis": {
            "gridcolor": "white",
            "linecolor": "white",
            "ticks": ""
           },
           "bgcolor": "#E5ECF6",
           "caxis": {
            "gridcolor": "white",
            "linecolor": "white",
            "ticks": ""
           }
          },
          "title": {
           "x": 0.05
          },
          "xaxis": {
           "automargin": true,
           "gridcolor": "white",
           "linecolor": "white",
           "ticks": "",
           "title": {
            "standoff": 15
           },
           "zerolinecolor": "white",
           "zerolinewidth": 2
          },
          "yaxis": {
           "automargin": true,
           "gridcolor": "white",
           "linecolor": "white",
           "ticks": "",
           "title": {
            "standoff": 15
           },
           "zerolinecolor": "white",
           "zerolinewidth": 2
          }
         }
        },
        "title": {
         "text": "Накоп за 6 мес по скважинам"
        },
        "xaxis": {
         "tickangle": -45,
         "tickfont": {
          "color": "#6B7280",
          "size": 13
         },
         "title": {
          "text": "Скважина"
         }
        },
        "yaxis": {
         "gridcolor": "#E5E7EB",
         "title": {
          "text": "Значение"
         },
         "zeroline": true,
         "zerolinecolor": "#D1D5DB",
         "zerolinewidth": 2
        }
       }
      },
      "image/png": "[encoded data removed]"
     },
     "metadata": {},
     "output_type": "display_data"
    },
    {
     "data": {
      "application/vnd.plotly.v1+json": {
       "config": {
        "plotlyServerURL": "https://plot.ly"
       },
       "data": [
        {
         "hovertemplate": "Скважина %{x}<br>Накоп за 12 мес: %{y:.0f}<extra></extra>",
         "marker": {
          "color": "#F59E0B"
         },
         "type": "bar",
         "x": [
          "NewWell-26P",
          "NewWell-27P",
          "NewWell-28P",
          "NewWell-29P",
          "NewWell-30P",
          "NewWell-31P",
          "NewWell-32P",
          "NewWell-33P",
          "NewWell-34P",
          "NewWell-35P",
          "NewWell-36P",
          "NewWell-37P",
          "NewWell-38P",
          "NewWell-39P",
          "NewWell-40P",
          "NewWell-41P",
          "NewWell-42P",
          "NewWell-43P",
          "NewWell-44P",
          "NewWell-45P",
          "NewWell-46P",
          "NewWell-47P",
          "NewWell-48P",
          "NewWell-49P",
          "NewWell-50P"
         ],
         "y": {
          "bdata": "CvSklM+22kCJKuucIkLOQPp/TT+HHeNAjBPQJ8KM0UAK7TRHoMG+QC6W00qlCd1A/8g99Fxm2EAxLR4lPlTkQPSY10Eq1eJA5BE6NpQw0UCHe42MRzjkQM8zDFIpb8FApIJmu+eTwkAFDZ65a2fNQJpPlnPixblAQCBtRug5wkBayp+5K+/YQLzo+shmU9lAuMerxXoR3UBOI8mxiXjZQHfGWnCTgNRAkQWXnGXr40A3U+0TiHq6QEDmk8Ta28RAtzSrlmiw00A=",
          "dtype": "f8"
         }
        }
       ],
       "layout": {
        "font": {
         "color": "#374151",
         "family": "Poppins, sans-serif",
         "size": 14
        },
        "margin": {
         "b": 100,
         "l": 60,
         "r": 40,
         "t": 60
        },
        "paper_bgcolor": "white",
        "plot_bgcolor": "white",
        "template": {
         "data": {
          "bar": [
           {
            "error_x": {
             "color": "#2a3f5f"
            },
            "error_y": {
             "color": "#2a3f5f"
            },
            "marker": {
             "line": {
              "color": "#E5ECF6",
              "width": 0.5
             },
             "pattern": {
              "fillmode": "overlay",
              "size": 10,
              "solidity": 0.2
             }
            },
            "type": "bar"
           }
          ],
          "barpolar": [
           {
            "marker": {
             "line": {
              "color": "#E5ECF6",
              "width": 0.5
             },
             "pattern": {
              "fillmode": "overlay",
              "size": 10,
              "solidity": 0.2
             }
            },
            "type": "barpolar"
           }
          ],
          "carpet": [
           {
            "aaxis": {
             "endlinecolor": "#2a3f5f",
             "gridcolor": "white",
             "linecolor": "white",
             "minorgridcolor": "white",
             "startlinecolor": "#2a3f5f"
            },
            "baxis": {
             "endlinecolor": "#2a3f5f",
             "gridcolor": "white",
             "linecolor": "white",
             "minorgridcolor": "white",
             "startlinecolor": "#2a3f5f"
            },
            "type": "carpet"
           }
          ],
          "choropleth": [
           {
            "colorbar": {
             "outlinewidth": 0,
             "ticks": ""
            },
            "type": "choropleth"
           }
          ],
          "contour": [
           {
            "colorbar": {
             "outlinewidth": 0,
             "ticks": ""
            },
            "colorscale": [
             [
              0,
              "#0d0887"
             ],
             [
              0.1111111111111111,
              "#46039f"
             ],
             [
              0.2222222222222222,
              "#7201a8"
             ],
             [
              0.3333333333333333,
              "#9c179e"
             ],
             [
              0.4444444444444444,
              "#bd3786"
             ],
             [
              0.5555555555555556,
              "#d8576b"
             ],
             [
              0.6666666666666666,
              "#ed7953"
             ],
             [
              0.7777777777777778,
              "#fb9f3a"
             ],
             [
              0.8888888888888888,
              "#fdca26"
             ],
             [
              1,
              "#f0f921"
             ]
            ],
            "type": "contour"
           }
          ],
          "contourcarpet": [
           {
            "colorbar": {
             "outlinewidth": 0,
             "ticks": ""
            },
            "type": "contourcarpet"
           }
          ],
          "heatmap": [
           {
            "colorbar": {
             "outlinewidth": 0,
             "ticks": ""
            },
            "colorscale": [
             [
              0,
              "#0d0887"
             ],
             [
              0.1111111111111111,
              "#46039f"
             ],
             [
              0.2222222222222222,
              "#7201a8"
             ],
             [
              0.3333333333333333,
              "#9c179e"
             ],
             [
              0.4444444444444444,
              "#bd3786"
             ],
             [
              0.5555555555555556,
              "#d8576b"
             ],
             [
              0.6666666666666666,
              "#ed7953"
             ],
             [
              0.7777777777777778,
              "#fb9f3a"
             ],
             [
              0.8888888888888888,
              "#fdca26"
             ],
             [
              1,
              "#f0f921"
             ]
            ],
            "type": "heatmap"
           }
          ],
          "histogram": [
           {
            "marker": {
             "pattern": {
              "fillmode": "overlay",
              "size": 10,
              "solidity": 0.2
             }
            },
            "type": "histogram"
           }
          ],
          "histogram2d": [
           {
            "colorbar": {
             "outlinewidth": 0,
             "ticks": ""
            },
            "colorscale": [
             [
              0,
              "#0d0887"
             ],
             [
              0.1111111111111111,
              "#46039f"
             ],
             [
              0.2222222222222222,
              "#7201a8"
             ],
             [
              0.3333333333333333,
              "#9c179e"
             ],
             [
              0.4444444444444444,
              "#bd3786"
             ],
             [
              0.5555555555555556,
              "#d8576b"
             ],
             [
              0.6666666666666666,
              "#ed7953"
             ],
             [
              0.7777777777777778,
              "#fb9f3a"
             ],
             [
              0.8888888888888888,
              "#fdca26"
             ],
             [
              1,
              "#f0f921"
             ]
            ],
            "type": "histogram2d"
           }
          ],
          "histogram2dcontour": [
           {
            "colorbar": {
             "outlinewidth": 0,
             "ticks": ""
            },
            "colorscale": [
             [
              0,
              "#0d0887"
             ],
             [
              0.1111111111111111,
              "#46039f"
             ],
             [
              0.2222222222222222,
              "#7201a8"
             ],
             [
              0.3333333333333333,
              "#9c179e"
             ],
             [
              0.4444444444444444,
              "#bd3786"
             ],
             [
              0.5555555555555556,
              "#d8576b"
             ],
             [
              0.6666666666666666,
              "#ed7953"
             ],
             [
              0.7777777777777778,
              "#fb9f3a"
             ],
             [
              0.8888888888888888,
              "#fdca26"
             ],
             [
              1,
              "#f0f921"
             ]
            ],
            "type": "histogram2dcontour"
           }
          ],
          "mesh3d": [
           {
            "colorbar": {
             "outlinewidth": 0,
             "ticks": ""
            },
            "type": "mesh3d"
           }
          ],
          "parcoords": [
           {
            "line": {
             "colorbar": {
              "outlinewidth": 0,
              "ticks": ""
             }
            },
            "type": "parcoords"
           }
          ],
          "pie": [
           {
            "automargin": true,
            "type": "pie"
           }
          ],
          "scatter": [
           {
            "fillpattern": {
             "fillmode": "overlay",
             "size": 10,
             "solidity": 0.2
            },
            "type": "scatter"
           }
          ],
          "scatter3d": [
           {
            "line": {
             "colorbar": {
              "outlinewidth": 0,
              "ticks": ""
             }
            },
            "marker": {
             "colorbar": {
              "outlinewidth": 0,
              "ticks": ""
             }
            },
            "type": "scatter3d"
           }
          ],
          "scattercarpet": [
           {
            "marker": {
             "colorbar": {
              "outlinewidth": 0,
              "ticks": ""
             }
            },
            "type": "scattercarpet"
           }
          ],
          "scattergeo": [
           {
            "marker": {
             "colorbar": {
              "outlinewidth": 0,
              "ticks": ""
             }
            },
            "type": "scattergeo"
           }
          ],
          "scattergl": [
           {
            "marker": {
             "colorbar": {
              "outlinewidth": 0,
              "ticks": ""
             }
            },
            "type": "scattergl"
           }
          ],
          "scattermap": [
           {
            "marker": {
             "colorbar": {
              "outlinewidth": 0,
              "ticks": ""
             }
            },
            "type": "scattermap"
           }
          ],
          "scattermapbox": [
           {
            "marker": {
             "colorbar": {
              "outlinewidth": 0,
              "ticks": ""
             }
            },
            "type": "scattermapbox"
           }
          ],
          "scatterpolar": [
           {
            "marker": {
             "colorbar": {
              "outlinewidth": 0,
              "ticks": ""
             }
            },
            "type": "scatterpolar"
           }
          ],
          "scatterpolargl": [
           {
            "marker": {
             "colorbar": {
              "outlinewidth": 0,
              "ticks": ""
             }
            },
            "type": "scatterpolargl"
           }
          ],
          "scatterternary": [
           {
            "marker": {
             "colorbar": {
              "outlinewidth": 0,
              "ticks": ""
             }
            },
            "type": "scatterternary"
           }
          ],
          "surface": [
           {
            "colorbar": {
             "outlinewidth": 0,
             "ticks": ""
            },
            "colorscale": [
             [
              0,
              "#0d0887"
             ],
             [
              0.1111111111111111,
              "#46039f"
             ],
             [
              0.2222222222222222,
              "#7201a8"
             ],
             [
              0.3333333333333333,
              "#9c179e"
             ],
             [
              0.4444444444444444,
              "#bd3786"
             ],
             [
              0.5555555555555556,
              "#d8576b"
             ],
             [
              0.6666666666666666,
              "#ed7953"
             ],
             [
              0.7777777777777778,
              "#fb9f3a"
             ],
             [
              0.8888888888888888,
              "#fdca26"
             ],
             [
              1,
              "#f0f921"
             ]
            ],
            "type": "surface"
           }
          ],
          "table": [
           {
            "cells": {
             "fill": {
              "color": "#EBF0F8"
             },
             "line": {
              "color": "white"
             }
            },
            "header": {
             "fill": {
              "color": "#C8D4E3"
             },
             "line": {
              "color": "white"
             }
            },
            "type": "table"
           }
          ]
         },
         "layout": {
          "annotationdefaults": {
           "arrowcolor": "#2a3f5f",
           "arrowhead": 0,
           "arrowwidth": 1
          },
          "autotypenumbers": "strict",
          "coloraxis": {
           "colorbar": {
            "outlinewidth": 0,
            "ticks": ""
           }
          },
          "colorscale": {
           "diverging": [
            [
             0,
             "#8e0152"
            ],
            [
             0.1,
             "#c51b7d"
            ],
            [
             0.2,
             "#de77ae"
            ],
            [
             0.3,
             "#f1b6da"
            ],
            [
             0.4,
             "#fde0ef"
            ],
            [
             0.5,
             "#f7f7f7"
            ],
            [
             0.6,
             "#e6f5d0"
            ],
            [
             0.7,
             "#b8e186"
            ],
            [
             0.8,
             "#7fbc41"
            ],
            [
             0.9,
             "#4d9221"
            ],
            [
             1,
             "#276419"
            ]
           ],
           "sequential": [
            [
             0,
             "#0d0887"
            ],
            [
             0.1111111111111111,
             "#46039f"
            ],
            [
             0.2222222222222222,
             "#7201a8"
            ],
            [
             0.3333333333333333,
             "#9c179e"
            ],
            [
             0.4444444444444444,
             "#bd3786"
            ],
            [
             0.5555555555555556,
             "#d8576b"
            ],
            [
             0.6666666666666666,
             "#ed7953"
            ],
            [
             0.7777777777777778,
             "#fb9f3a"
            ],
            [
             0.8888888888888888,
             "#fdca26"
            ],
            [
             1,
             "#f0f921"
            ]
           ],
           "sequentialminus": [
            [
             0,
             "#0d0887"
            ],
            [
             0.1111111111111111,
             "#46039f"
            ],
            [
             0.2222222222222222,
             "#7201a8"
            ],
            [
             0.3333333333333333,
             "#9c179e"
            ],
            [
             0.4444444444444444,
             "#bd3786"
            ],
            [
             0.5555555555555556,
             "#d8576b"
            ],
            [
             0.6666666666666666,
             "#ed7953"
            ],
            [
             0.7777777777777778,
             "#fb9f3a"
            ],
            [
             0.8888888888888888,
             "#fdca26"
            ],
            [
             1,
             "#f0f921"
            ]
           ]
          },
          "colorway": [
           "#636efa",
           "#EF553B",
           "#00cc96",
           "#ab63fa",
           "#FFA15A",
           "#19d3f3",
           "#FF6692",
           "#B6E880",
           "#FF97FF",
           "#FECB52"
          ],
          "font": {
           "color": "#2a3f5f"
          },
          "geo": {
           "bgcolor": "white",
           "lakecolor": "white",
           "landcolor": "#E5ECF6",
           "showlakes": true,
           "showland": true,
           "subunitcolor": "white"
          },
          "hoverlabel": {
           "align": "left"
          },
          "hovermode": "closest",
          "mapbox": {
           "style": "light"
          },
          "paper_bgcolor": "white",
          "plot_bgcolor": "#E5ECF6",
          "polar": {
           "angularaxis": {
            "gridcolor": "white",
            "linecolor": "white",
            "ticks": ""
           },
           "bgcolor": "#E5ECF6",
           "radialaxis": {
            "gridcolor": "white",
            "linecolor": "white",
            "ticks": ""
           }
          },
          "scene": {
           "xaxis": {
            "backgroundcolor": "#E5ECF6",
            "gridcolor": "white",
            "gridwidth": 2,
            "linecolor": "white",
            "showbackground": true,
            "ticks": "",
            "zerolinecolor": "white"
           },
           "yaxis": {
            "backgroundcolor": "#E5ECF6",
            "gridcolor": "white",
            "gridwidth": 2,
            "linecolor": "white",
            "showbackground": true,
            "ticks": "",
            "zerolinecolor": "white"
           },
           "zaxis": {
            "backgroundcolor": "#E5ECF6",
            "gridcolor": "white",
            "gridwidth": 2,
            "linecolor": "white",
            "showbackground": true,
            "ticks": "",
            "zerolinecolor": "white"
           }
          },
          "shapedefaults": {
           "line": {
            "color": "#2a3f5f"
           }
          },
          "ternary": {
           "aaxis": {
            "gridcolor": "white",
            "linecolor": "white",
            "ticks": ""
           },
           "baxis": {
            "gridcolor": "white",
            "linecolor": "white",
            "ticks": ""
           },
           "bgcolor": "#E5ECF6",
           "caxis": {
            "gridcolor": "white",
            "linecolor": "white",
            "ticks": ""
           }
          },
          "title": {
           "x": 0.05
          },
          "xaxis": {
           "automargin": true,
           "gridcolor": "white",
           "linecolor": "white",
           "ticks": "",
           "title": {
            "standoff": 15
           },
           "zerolinecolor": "white",
           "zerolinewidth": 2
          },
          "yaxis": {
           "automargin": true,
           "gridcolor": "white",
           "linecolor": "white",
           "ticks": "",
           "title": {
            "standoff": 15
           },
           "zerolinecolor": "white",
           "zerolinewidth": 2
          }
         }
        },
        "title": {
         "text": "Накоп за 12 мес по скважинам"
        },
        "xaxis": {
         "tickangle": -45,
         "tickfont": {
          "color": "#6B7280",
          "size": 13
         },
         "title": {
          "text": "Скважина"
         }
        },
        "yaxis": {
         "gridcolor": "#E5E7EB",
         "title": {
          "text": "Значение"
         },
         "zeroline": true,
         "zerolinecolor": "#D1D5DB",
         "zerolinewidth": 2
        }
       }
      },
      "image/png": "[encoded data removed]"
     },
     "metadata": {},
     "output_type": "display_data"
    }
   ],
   "source": [
    "import pandas as pd\n",
    "import numpy as np\n",
    "import math\n",
    "import joblib\n",
    "import mysql.connector\n",
    "from sklearn.model_selection import train_test_split\n",
    "from sklearn.ensemble import RandomForestRegressor\n",
    "from sklearn.metrics import mean_absolute_error, mean_squared_error, r2_score\n",
    "from sklearn.preprocessing import StandardScaler\n",
    "import optuna\n",
    "optuna.logging.set_verbosity(optuna.logging.WARNING)\n",
    "\n",
    "\n",
    "class DataExtractor:\n",
    "    def __init__(self, db_config):\n",
    "        \"\"\"Инициализация класса для извлечения данных из БД\"\"\"\n",
    "        self.connection = mysql.connector.connect(**db_config)\n",
    "\n",
    "    def get_data(self):\n",
    "        \"\"\"Извлечение данных из БД и формирование DataFrame\"\"\"\n",
    "        cursor = self.connection.cursor(dictionary=True)\n",
    "\n",
    "        # Получение всех скважин из well_geo_info\n",
    "        cursor.execute(\"SELECT well_name FROM well_geo_info\")\n",
    "        wells = cursor.fetchall()\n",
    "\n",
    "        results = []\n",
    "\n",
    "        for well in wells:\n",
    "            well_name = well['well_name']\n",
    "\n",
    "            # Получение стартового дебита и Lhor (первый ненулевой oil_rate_per_day по дате)\n",
    "            cursor.execute(f\"\"\"\n",
    "                SELECT oil_rate_per_day, Lhor \n",
    "                FROM well_production_data \n",
    "                WHERE well_name = %s \n",
    "                AND oil_rate_per_day > 0 \n",
    "                ORDER BY date ASC \n",
    "                LIMIT 1\n",
    "            \"\"\", (well_name,))\n",
    "            start_rate = cursor.fetchone()\n",
    "\n",
    "            if start_rate is None:\n",
    "                # Если нет стартового дебита, пропускаем скважину\n",
    "                continue\n",
    "\n",
    "            start_oil_rate = start_rate['oil_rate_per_day']\n",
    "            Lhor = start_rate['Lhor']\n",
    "\n",
    "            # Получение KH из well_geo_info\n",
    "            cursor.execute(f\"SELECT KH FROM well_geo_info WHERE well_name = %s\", (well_name,))\n",
    "            kh_data = cursor.fetchone()\n",
    "            KH = kh_data['KH'] if kh_data else None\n",
    "\n",
    "            # Получение координат текущей скважины\n",
    "            cursor.execute(\"\"\"\n",
    "                SELECT wellhead_X, wellhead_Y \n",
    "                FROM wells_coordinate \n",
    "                WHERE well_name = %s\n",
    "            \"\"\", (well_name,))\n",
    "            current_well_coords = cursor.fetchone()\n",
    "            if current_well_coords is None:\n",
    "                continue\n",
    "            current_x, current_y = current_well_coords['wellhead_X'], current_well_coords['wellhead_Y']\n",
    "\n",
    "            # Расстояние до ближайшей скважины с ненулевой закачкой (injwat_rate_per_day > 0)\n",
    "            cursor.execute(\"\"\"\n",
    "                SELECT wc.well_name, wc.wellhead_X, wc.wellhead_Y\n",
    "                FROM wells_coordinate wc\n",
    "                JOIN (\n",
    "                    SELECT DISTINCT well_name\n",
    "                    FROM well_production_data \n",
    "                    WHERE injwat_rate_per_day > 0\n",
    "                ) wpd ON wc.well_name = wpd.well_name\n",
    "                WHERE wc.well_name != %s\n",
    "            \"\"\", (well_name,))\n",
    "            injection_wells = cursor.fetchall()\n",
    "\n",
    "            min_injection_distance = float('inf')\n",
    "            for injection_well in injection_wells:\n",
    "                dx = current_x - injection_well['wellhead_X']\n",
    "                dy = current_y - injection_well['wellhead_Y']\n",
    "                distance = np.sqrt(dx*dx + dy*dy)\n",
    "                if distance < min_injection_distance:\n",
    "                    min_injection_distance = distance\n",
    "            # Если таких скважин нет, ставим None\n",
    "            if min_injection_distance == float('inf'):\n",
    "                min_injection_distance = None\n",
    "\n",
    "            # Расстояние до ближайшей скважины с ненулевой добычей (oil_rate_per_day > 0)\n",
    "            cursor.execute(\"\"\"\n",
    "                SELECT wc.well_name, wc.wellhead_X, wc.wellhead_Y\n",
    "                FROM wells_coordinate wc\n",
    "                JOIN (\n",
    "                    SELECT DISTINCT well_name\n",
    "                    FROM well_production_data \n",
    "                    WHERE oil_rate_per_day > 0\n",
    "                ) wpd ON wc.well_name = wpd.well_name\n",
    "                WHERE wc.well_name != %s\n",
    "            \"\"\", (well_name,))\n",
    "            production_wells = cursor.fetchall()\n",
    "\n",
    "            min_production_distance = float('inf')\n",
    "            for prod_well in production_wells:\n",
    "                dx = current_x - prod_well['wellhead_X']\n",
    "                dy = current_y - prod_well['wellhead_Y']\n",
    "                distance = np.sqrt(dx*dx + dy*dy)\n",
    "                if distance < min_production_distance:\n",
    "                    min_production_distance = distance\n",
    "            if min_production_distance == float('inf'):\n",
    "                min_production_distance = None\n",
    "\n",
    "            # Получение суммарной добычи нефти для скважины (сумма oil_rate_per_day)\n",
    "            cursor.execute(\"\"\"\n",
    "                SELECT SUM(oil_rate_per_day) AS total_oil \n",
    "                FROM well_production_data \n",
    "                WHERE well_name = %s\n",
    "            \"\"\", (well_name,))\n",
    "            total_oil_data = cursor.fetchone()\n",
    "            total_oil = total_oil_data['total_oil'] if total_oil_data and total_oil_data['total_oil'] is not None else 0\n",
    "\n",
    "            # Получение последнего ненулевого дебита (oil_rate_per_day > 0, отсортирован по дате DESC)\n",
    "            cursor.execute(\"\"\"\n",
    "                SELECT oil_rate_per_day \n",
    "                FROM well_production_data \n",
    "                WHERE well_name = %s \n",
    "                AND oil_rate_per_day > 0 \n",
    "                ORDER BY date DESC \n",
    "                LIMIT 1\n",
    "            \"\"\", (well_name,))\n",
    "            last_rate_data = cursor.fetchone()\n",
    "            last_oil_rate = last_rate_data['oil_rate_per_day'] if last_rate_data else 0\n",
    "\n",
    "            # Расчет D с защитой от деления на 0\n",
    "            D = (start_oil_rate / last_oil_rate) / total_oil if last_oil_rate > 0 and total_oil > 0 else 0\n",
    "\n",
    "            results.append({\n",
    "                'Стартовый дебит': start_oil_rate,\n",
    "                'KH': KH,\n",
    "                'Lгор': Lhor,\n",
    "                'Расстояние до ближайщей скважины с ненулевой закачкой': min_injection_distance,\n",
    "                'Расстояние до ближайщей скважины с ненулевой добычей': min_production_distance,\n",
    "                'D': D,\n",
    "                'Скважина': well_name\n",
    "            })\n",
    "\n",
    "        cursor.close()\n",
    "        return pd.DataFrame(results)\n",
    "\n",
    "    def close(self):\n",
    "        \"\"\"Закрытие соединения с БД\"\"\"\n",
    "        self.connection.close()\n",
    "\n",
    "\n",
    "class OilProductionForecaster:\n",
    "    def __init__(self):\n",
    "        \"\"\"Инициализация класса для прогнозирования добычи нефти\"\"\"\n",
    "        self.scaler = StandardScaler()  # Скалер для нормализации данных\n",
    "        self.model = None  # Место для хранения обученной модели\n",
    "        self.best_params = None  # Лучшие параметры модели после оптимизации\n",
    "\n",
    "    def load_data(self, train_path: str, target_column: str = 'D') -> tuple:\n",
    "        \"\"\"\n",
    "        Загрузка и подготовка тренировочных данных\n",
    "        :param train_path: путь к файлу с данными\n",
    "        :param target_column: название целевой переменной\n",
    "        :return: кортеж (признаки, целевая переменная, список скважин)\n",
    "        \"\"\"\n",
    "        df = pd.read_csv(train_path, delimiter=';')\n",
    "        wells = df['Скважина'].tolist()  # Список названий скважин\n",
    "        X = df.drop(columns=['Скважина'])  # Признаки (все кроме названия скважины)\n",
    "        y = df[target_column]  # Целевая переменная (параметр D)\n",
    "        return X, y, wells\n",
    "\n",
    "    def preprocess_data(self, X_train, X_test, y_train, y_test) -> tuple:\n",
    "        \"\"\"\n",
    "        Масштабирование признаков и разделение данных\n",
    "        :return: кортеж с масштабированными данными\n",
    "        \"\"\"\n",
    "        X_train_scaled = self.scaler.fit_transform(X_train)  # Обучение скалера и трансформация тренировочных данных\n",
    "        X_test_scaled = self.scaler.transform(X_test)  # Трансформация тестовых данных\n",
    "        return X_train_scaled, X_test_scaled, y_train, y_test\n",
    "\n",
    "    def train_model(self, X_train, y_train, n_trials=50) -> None:\n",
    "        \"\"\"\n",
    "        Обучение модели Random Forest с оптимизацией гиперпараметров\n",
    "        :param X_train: тренировочные признаки\n",
    "        :param y_train: тренировочные целевые значения\n",
    "        :param n_trials: количество итераций оптимизации\n",
    "        \"\"\"\n",
    "        # Создание объекта для оптимизации гиперпараметров\n",
    "        study = optuna.create_study(direction='minimize')\n",
    "\n",
    "        # Запуск оптимизации\n",
    "        study.optimize(lambda trial: self._objective(trial, X_train, y_train), n_trials=n_trials)\n",
    "\n",
    "        # Сохранение лучших параметров\n",
    "        self.best_params = study.best_params\n",
    "        print(\"Лучшие гиперпараметры:\")\n",
    "        for key, value in self.best_params.items():\n",
    "            print(f\"    {key}: {value}\")\n",
    "\n",
    "        # Создание и обучение модели с лучшими параметрами\n",
    "        self.model = RandomForestRegressor(\n",
    "            n_estimators=self.best_params['n_estimators'],\n",
    "            max_depth=self.best_params.get('max_depth', None),\n",
    "            min_samples_split=self.best_params['min_samples_split'],\n",
    "            min_samples_leaf=self.best_params['min_samples_leaf'],\n",
    "            max_features=self.best_params['max_features'],\n",
    "            random_state=42\n",
    "        )\n",
    "        self.model.fit(X_train, y_train)\n",
    "\n",
    "    def _objective(self, trial, X_train, y_train) -> float:\n",
    "        \"\"\"\n",
    "        Целевая функция для оптимизации гиперпараметров\n",
    "        :return: значение метрики MAE для текущего набора параметров\n",
    "        \"\"\"\n",
    "        # Подбор гиперпараметров\n",
    "        params = {\n",
    "            'n_estimators': trial.suggest_int('n_estimators', 10, 50),\n",
    "            'max_depth': trial.suggest_int('max_depth', 3, 20) if trial.suggest_categorical('use_max_depth', [True, False]) else None,\n",
    "            'min_samples_split': trial.suggest_int('min_samples_split', 2, 10),\n",
    "            'min_samples_leaf': trial.suggest_int('min_samples_leaf', 1, 5),\n",
    "            'max_features': trial.suggest_categorical('max_features', ['sqrt', 'log2', None])\n",
    "        }\n",
    "\n",
    "        # Создание и обучение временной модели\n",
    "        model = RandomForestRegressor(**params, random_state=42)\n",
    "        model.fit(X_train, y_train)\n",
    "\n",
    "        # Расчет метрики качества\n",
    "        y_pred = model.predict(X_train)\n",
    "        return mean_absolute_error(y_train, y_pred)\n",
    "\n",
    "    def evaluate_model(self, X_test, y_test) -> dict:\n",
    "        \"\"\"\n",
    "        Оценка качества модели на тестовых данных\n",
    "        :return: словарь с метриками качества\n",
    "        \"\"\"\n",
    "        y_pred = self.model.predict(X_test)\n",
    "        return {\n",
    "            'MAE': mean_absolute_error(y_test, y_pred),\n",
    "            'MSE': mean_squared_error(y_test, y_pred),\n",
    "            'R2': r2_score(y_test, y_pred)\n",
    "        }\n",
    "\n",
    "    def save_model(self, path: str) -> None:\n",
    "        \"\"\"Сохранение обученной модели и скалера в файл\"\"\"\n",
    "        joblib.dump((self.model, self.scaler), path)\n",
    "\n",
    "    def load_model(self, path: str) -> None:\n",
    "        \"\"\"Загрузка обученной модели и скалера из файла\"\"\"\n",
    "        self.model, self.scaler = joblib.load(path)\n",
    "\n",
    "    def predict_production(self, input_path: str) -> pd.DataFrame:\n",
    "        \"\"\"\n",
    "        Прогнозирование добычи для новых скважин\n",
    "        :param input_path: путь к файлу с данными новых скважин\n",
    "        :return: DataFrame с результатами прогнозирования\n",
    "        \"\"\"\n",
    "        # Загрузка и подготовка новых данных\n",
    "        new_data = pd.read_csv(input_path, sep=';')\n",
    "        wells = new_data['Скважина'].tolist()  # Список скважин\n",
    "        qoil = new_data['Стартовый дебит'].tolist()  # Стартовые дебиты\n",
    "        X_new = new_data.drop(columns=['Скважина'])  # Признаки\n",
    "\n",
    "        # Масштабирование и предсказание\n",
    "        X_new_scaled = self.scaler.transform(X_new)\n",
    "        d_pred = self.model.predict(X_new_scaled)  # Предсказанные значения D\n",
    "\n",
    "        # Расчет накопленной добычи\n",
    "        results = []\n",
    "        for q, d in zip(qoil, d_pred):\n",
    "            results.append({\n",
    "                'D': d,\n",
    "                'Накоп за 6 мес': self._calculate_cumulative(q, d, 180),  # 180 дней = 6 месяцев\n",
    "                'Накоп за 12 мес': self._calculate_cumulative(q, d, 366),  # 366 дней = 12 месяцев\n",
    "                'Все запасы': self._calculate_cumulative(q, d, 73332)  # 73332 дня ≈ 20 лет\n",
    "            })\n",
    "\n",
    "        # Создание итогового DataFrame\n",
    "        return pd.DataFrame({\n",
    "            'Скважина': wells,\n",
    "            **{k: [r[k] for r in results] for k in results[0]}\n",
    "        })\n",
    "\n",
    "    def _calculate_cumulative(self, q: float, d: float, days: int) -> float:\n",
    "        \"\"\"\n",
    "        Расчет накопленной добычи по формуле Арпса\n",
    "        :param q: начальный дебит\n",
    "        :param d: параметр D\n",
    "        :param days: период в днях\n",
    "        :return: накопленная добыча\n",
    "        \"\"\"\n",
    "        return (q / abs(d)) * math.log(1 + abs(d) * days)\n",
    "\n",
    "\n",
    "def main():\n",
    "    \"\"\"Основная функция выполнения скрипта\"\"\"\n",
    "    \n",
    "    db_config = {\n",
    "        'user': 'root',\n",
    "        'password': 'Qsc_028ud',\n",
    "        'host': 'mysql',\n",
    "        'database': 'oil_production_db',\n",
    "        'auth_plugin': 'mysql_native_password'  # Add this line if using mysql-connector-python\n",
    "    }\n",
    "\n",
    "    # Извлечение и подготовка данных из базы\n",
    "    print(\"Извлечение данных из базы данных...\")\n",
    "    extractor = DataExtractor(db_config)\n",
    "    data = extractor.get_data()\n",
    "    extractor.close()\n",
    "\n",
    "    # Сохранение подготовленных данных в файл формата для обучения\n",
    "    data_file = '/arps_d_teach/d_teach_from_db.txt'\n",
    "    data.to_csv(data_file, sep=';', index=False)\n",
    "    print(f\"Данные успешно извлечены и сохранены в файл {data_file}.\")\n",
    "\n",
    "    # Инициализация прогнозировщика\n",
    "    forecaster = OilProductionForecaster()\n",
    "\n",
    "    # Загрузка данных и разделение на обучающую и тестовую выборки\n",
    "    X, y, _ = forecaster.load_data(data_file)\n",
    "    X_train, X_test, y_train, y_test = train_test_split(X, y, test_size=0.2, random_state=42)\n",
    "    X_train_scaled, X_test_scaled, y_train, y_test = forecaster.preprocess_data(X_train, X_test, y_train, y_test)\n",
    "\n",
    "    # Обучение модели с оптимизацией гиперпараметров\n",
    "    print(\"Обучение модели...\")\n",
    "    forecaster.train_model(X_train_scaled, y_train, n_trials=50)\n",
    "    forecaster.save_model('trained_random_forest_model_D.conf.pkl')\n",
    "\n",
    "    # Оценка качества модели\n",
    "    metrics = forecaster.evaluate_model(X_test_scaled, y_test)\n",
    "    print(f\"\\nОценка модели:\")\n",
    "    print(f\"MAE: {metrics['MAE']:.4f}\")\n",
    "    print(f\"MSE: {metrics['MSE']:.4f}\")\n",
    "    print(f\"R2: {metrics['R2']:.4f}\")\n",
    "\n",
    "    # Прогнозирование значений на основе новых данных (можно использовать другой файл с новыми скважинами)\n",
    "    print(\"\\nВыполнение прогнозирования...\")\n",
    "    forecaster.load_model('trained_random_forest_model_D.conf.pkl')\n",
    "    forecast_file = '/arps_d_teach/forecast_data.txt'  # Здесь должны быть данные для прогноза в аналогичном формате\n",
    "    predictions = forecaster.predict_production(forecast_file)\n",
    "\n",
    "    # Вывод результатов прогноза\n",
    "    print(\"\\nРезультаты прогнозирования:\")\n",
    "    # таблица\n",
    "    display(predictions)\n",
    "    import plotly.graph_objects as go\n",
    "    \n",
    "    # Графики Plot\n",
    "    fig_d = go.Figure(data=go.Bar(\n",
    "        x=predictions['Скважина'],\n",
    "        y=predictions['D'],\n",
    "        marker_color='#2563EB',\n",
    "        hovertemplate='Скважина %{x}<br>D: %{y:.8f}<extra></extra>'\n",
    "    ))\n",
    "    \n",
    "    fig_d.update_layout(\n",
    "        title='D по скважинам',\n",
    "        plot_bgcolor='white',\n",
    "        paper_bgcolor='white',\n",
    "        font=dict(family='Poppins, sans-serif', size=14, color='#374151'),\n",
    "        margin=dict(t=60, b=100, l=60, r=40),\n",
    "        xaxis=dict(title='Скважина', tickangle=-45, tickfont=dict(size=13, color='#6B7280')),\n",
    "        yaxis=dict(title='Значение', zeroline=True, zerolinecolor='#D1D5DB', zerolinewidth=2, gridcolor='#E5E7EB'),\n",
    "    )\n",
    "    \n",
    "    # Graph for Накоп за 6 мес\n",
    "    fig_6m = go.Figure(data=go.Bar(\n",
    "        x=predictions['Скважина'],\n",
    "        y=predictions['Накоп за 6 мес'],\n",
    "        marker_color='#10B981',\n",
    "        hovertemplate='Скважина %{x}<br>Накоп за 6 мес: %{y:.0f}<extra></extra>'\n",
    "    ))\n",
    "    \n",
    "    fig_6m.update_layout(\n",
    "        title='Накоп за 6 мес по скважинам',\n",
    "        plot_bgcolor='white',\n",
    "        paper_bgcolor='white',\n",
    "        font=dict(family='Poppins, sans-serif', size=14, color='#374151'),\n",
    "        margin=dict(t=60, b=100, l=60, r=40),\n",
    "        xaxis=dict(title='Скважина', tickangle=-45, tickfont=dict(size=13, color='#6B7280')),\n",
    "        yaxis=dict(title='Значение', zeroline=True, zerolinecolor='#D1D5DB', zerolinewidth=2, gridcolor='#E5E7EB'),\n",
    "    )\n",
    "    \n",
    "    # Graph for Накоп за 12 мес\n",
    "    fig_12m = go.Figure(data=go.Bar(\n",
    "        x=predictions['Скважина'],\n",
    "        y=predictions['Накоп за 12 мес'],\n",
    "        marker_color='#F59E0B',\n",
    "        hovertemplate='Скважина %{x}<br>Накоп за 12 мес: %{y:.0f}<extra></extra>'\n",
    "    ))\n",
    "    \n",
    "    fig_12m.update_layout(\n",
    "        title='Накоп за 12 мес по скважинам',\n",
    "        plot_bgcolor='white',\n",
    "        paper_bgcolor='white',\n",
    "        font=dict(family='Poppins, sans-serif', size=14, color='#374151'),\n",
    "        margin=dict(t=60, b=100, l=60, r=40),\n",
    "        xaxis=dict(title='Скважина', tickangle=-45, tickfont=dict(size=13, color='#6B7280')),\n",
    "        yaxis=dict(title='Значение', zeroline=True, zerolinecolor='#D1D5DB', zerolinewidth=2, gridcolor='#E5E7EB'),\n",
    "    )\n",
    "    \n",
    "    # Show the figures\n",
    "    fig_d.show()\n",
    "    fig_6m.show()\n",
    "    fig_12m.show()\n",
    "\n",
    "if __name__ == \"__main__\":\n",
    "    main()\n",
    "    "
   ]
  },
  {
   "cell_type": "code",
   "execution_count": 2,
   "id": "421f69b9-2ffb-4298-bf1f-1cb9ec06818a",
   "metadata": {},
   "outputs": [
    {
     "ename": "NameError",
     "evalue": "name 'predictions' is not defined",
     "output_type": "error",
     "traceback": [
      "\u001b[0;31m---------------------------------------------------------------------------\u001b[0m",
      "\u001b[0;31mNameError\u001b[0m                                 Traceback (most recent call last)",
      "Cell \u001b[0;32mIn[2], line 1\u001b[0m\n\u001b[0;32m----> 1\u001b[0m display(\u001b[43mpredictions\u001b[49m)\n",
      "\u001b[0;31mNameError\u001b[0m: name 'predictions' is not defined"
     ]
    }
   ],
   "source": [
    "display(predictions)"
   ]
  },
  {
   "cell_type": "code",
   "execution_count": null,
   "id": "bb2c2695-7833-4825-af16-87e48cf97cb4",
   "metadata": {},
   "outputs": [],
   "source": []
  }
 ],
 "metadata": {
  "kernelspec": {
   "display_name": "Python 3 (ipykernel)",
   "language": "python",
   "name": "python3"
  },
  "language_info": {
   "codemirror_mode": {
    "name": "ipython",
    "version": 3
   },
   "file_extension": ".py",
   "mimetype": "text/x-python",
   "name": "python",
   "nbconvert_exporter": "python",
   "pygments_lexer": "ipython3",
   "version": "3.9.23"
  }
 },
 "nbformat": 4,
 "nbformat_minor": 5
}
